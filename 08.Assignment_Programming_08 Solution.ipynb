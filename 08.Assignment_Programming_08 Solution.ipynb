{
 "cells": [
  {
   "cell_type": "markdown",
   "id": "823845d3",
   "metadata": {},
   "source": [
    "### 1. Write a Python Program to Add two Matrices?"
   ]
  },
  {
   "cell_type": "code",
   "execution_count": 1,
   "id": "6dd2fd5c",
   "metadata": {},
   "outputs": [
    {
     "name": "stdout",
     "output_type": "stream",
     "text": [
      "Inputs: [[1, 2, 3], [8, 5, 6], [4, 6, 2]],[[7, 8, 3], [1, 1, 1], [5, 6, 1]]\n",
      "Output: [[8, 10, 6], [9, 6, 7], [9, 12, 3]]\n",
      "Inputs: [[1, 1, 1], [1, 2, 1], [9, 9, 8]],[[6, 8, 9], [1, 1, 5], [1, 1, 9]]\n",
      "Output: [[7, 9, 10], [2, 3, 6], [10, 10, 17]]\n"
     ]
    }
   ],
   "source": [
    "def addMatrices(a,b):\n",
    "    print(f'Inputs: {a},{b}')\n",
    "    if len(a) == len(b):\n",
    "        matrix = []\n",
    "        for ele in range(len(a)):\n",
    "            if len(a[ele]) == len(b[ele]):\n",
    "                matrix.append([])\n",
    "                for sub_ele in range(len(a[ele])):\n",
    "                    matrix[ele].append(a[ele][sub_ele]+b[ele][sub_ele])\n",
    "            else:\n",
    "                print('Both the matrices must contains same no of rows and columns') \n",
    "    else:\n",
    "        print('Both the matrices must contains same no of rows and columns')\n",
    "    print(f'Output: {matrix}')\n",
    "\n",
    "addMatrices([[1,2,3],[8,5,6],[4,6,2]],[[7,8,3],[1,1,1],[5,6,1]])\n",
    "addMatrices([[1,1,1],[1,2,1],[9,9,8]],[[6,8,9],[1,1,5],[1,1,9]])"
   ]
  },
  {
   "cell_type": "markdown",
   "id": "9e6c1983",
   "metadata": {},
   "source": [
    "### 2. Write a Python Program to Multiply two Matrices?"
   ]
  },
  {
   "cell_type": "code",
   "execution_count": 2,
   "id": "e5c57cb3",
   "metadata": {},
   "outputs": [
    {
     "name": "stdout",
     "output_type": "stream",
     "text": [
      "[[51, 51, 51], [14, 14, 14], [21, 21, 21]]\n"
     ]
    }
   ],
   "source": [
    "a = [[8,8,9],[1,2,3],[7,1,4]]\n",
    "b = [[1,1,1],[2,2,2],[3,3,3]]\n",
    "\n",
    "def multiply_matrice(a,b):\n",
    "    output = []\n",
    "    if len(a[0]) == len(b):\n",
    "        for ele in range(len(a[0])):\n",
    "            output.append([0 for ele in range(len(b[0]))])\n",
    "        for i in range(len(a)):\n",
    "            for j in range(len(b[0])):\n",
    "                for k in range(len(b)):\n",
    "                    output[i][j] += a[i][k]*b[k][j]\n",
    "        print(output)     \n",
    "    else:\n",
    "        print('Matrix Multiplication is Not Possible')\n",
    "        \n",
    "multiply_matrice(a,b)"
   ]
  },
  {
   "cell_type": "markdown",
   "id": "c2705b7d",
   "metadata": {},
   "source": [
    "### 3. Write a Python Program to transpose a Matrix?"
   ]
  },
  {
   "cell_type": "code",
   "execution_count": 3,
   "id": "08afb7ff",
   "metadata": {},
   "outputs": [
    {
     "name": "stdout",
     "output_type": "stream",
     "text": [
      "[[1, 2, 5], [5, 5, 7], [1, 2, 5]] -> [[1, 5, 1], [2, 5, 2], [5, 7, 5]]\n",
      "[[5, 5, 4], [1, 3, 4], [1, 2, 3]] -> [[5, 1, 1], [5, 3, 2], [4, 4, 3]]\n",
      "[[1, 4, 5], [4, 5, 1]] -> [[1, 4], [4, 5], [5, 1]]\n"
     ]
    }
   ],
   "source": [
    "a = [[1,2,5],[5,5,7],[1,2,5]]\n",
    "b = [[5,5,4],[1,3,4],[1,2,3]]\n",
    "c = [[1,4,5],[4,5,1]]\n",
    "\n",
    "def generate_transpose(in_matrix):\n",
    "    out_matrix = []\n",
    "    for ele in range(len(in_matrix[0])):\n",
    "        out_matrix.append([0 for i in range(len(in_matrix))])\n",
    "    for i in range(len(in_matrix)):\n",
    "        for j in range(len(in_matrix[i])):\n",
    "            out_matrix[j][i] = in_matrix[i][j]\n",
    "    print(f'{in_matrix} -> {out_matrix}')\n",
    "        \n",
    "generate_transpose(a)\n",
    "generate_transpose(b)\n",
    "generate_transpose(c)"
   ]
  },
  {
   "cell_type": "markdown",
   "id": "5b6207c1",
   "metadata": {},
   "source": [
    "### 4. Write a Python Program to sort Words in an Alphabatical Order?"
   ]
  },
  {
   "cell_type": "code",
   "execution_count": 4,
   "id": "d6e5de3d",
   "metadata": {},
   "outputs": [
    {
     "name": "stdout",
     "output_type": "stream",
     "text": [
      "Enter a String: I am Data Scientist\n",
      "Am Data I Scientist\n"
     ]
    }
   ],
   "source": [
    "def sortString():\n",
    "    in_string = input(\"Enter a String: \").title()\n",
    "    sorted_list = sorted(in_string.split(' '))\n",
    "    print(' '.join(sorted_list))\n",
    "\n",
    "sortString()"
   ]
  },
  {
   "cell_type": "markdown",
   "id": "eb0e084d",
   "metadata": {},
   "source": [
    "### 5. Write a Python Program to remove Punctuations From a String?"
   ]
  },
  {
   "cell_type": "code",
   "execution_count": 5,
   "id": "08c0196d",
   "metadata": {},
   "outputs": [
    {
     "name": "stdout",
     "output_type": "stream",
     "text": [
      "Enter a String: jiviteshkumar.jk007@gmail.com\n",
      "jiviteshkumarjk007gmailcom\n"
     ]
    }
   ],
   "source": [
    "def removePunctuatuions():\n",
    "    punctuations = '''!()-[]{};:'\"\\,<>./?@#$%^&*_~'''\n",
    "    in_string = input('Enter a String: ')\n",
    "    out_string = ''\n",
    "    for ele in in_string:\n",
    "        if ele not in punctuations:\n",
    "            out_string += ele\n",
    "    print(out_string)\n",
    "    \n",
    "removePunctuatuions()"
   ]
  }
 ],
 "metadata": {
  "kernelspec": {
   "display_name": "Python 3 (ipykernel)",
   "language": "python",
   "name": "python3"
  },
  "language_info": {
   "codemirror_mode": {
    "name": "ipython",
    "version": 3
   },
   "file_extension": ".py",
   "mimetype": "text/x-python",
   "name": "python",
   "nbconvert_exporter": "python",
   "pygments_lexer": "ipython3",
   "version": "3.9.7"
  }
 },
 "nbformat": 4,
 "nbformat_minor": 5
}
