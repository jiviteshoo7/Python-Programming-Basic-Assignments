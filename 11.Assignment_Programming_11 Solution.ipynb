{
 "cells": [
  {
   "cell_type": "markdown",
   "id": "267b6b8f",
   "metadata": {},
   "source": [
    "### 1. Write a Python program to find words which are greater than given length k?"
   ]
  },
  {
   "cell_type": "code",
   "execution_count": 4,
   "id": "d3ec10f6",
   "metadata": {},
   "outputs": [
    {
     "name": "stdout",
     "output_type": "stream",
     "text": [
      "Enter the string: Hi I enrolled in FSDS\n",
      "Enter the length of the string: 3\n",
      "enrolled,FSDS\n"
     ]
    }
   ],
   "source": [
    "def checkLengthOfString():\n",
    "    string = input(\"Enter the string: \")\n",
    "    length = int(input('Enter the length of the string: '))\n",
    "    out_string = []\n",
    "    for i in string.split(\" \"):\n",
    "        if len(i) > length:\n",
    "            out_string.append(i)\n",
    "    print(','.join(out_string))\n",
    "\n",
    "checkLengthOfString()"
   ]
  },
  {
   "cell_type": "markdown",
   "id": "3711485d",
   "metadata": {},
   "source": [
    "### 2. Write a Python program for removing i-th character from a string?"
   ]
  },
  {
   "cell_type": "code",
   "execution_count": 5,
   "id": "f7fccd01",
   "metadata": {},
   "outputs": [
    {
     "name": "stdout",
     "output_type": "stream",
     "text": [
      "Enter the String: ineuron\n",
      "Enter the ith Character: 1\n",
      "ieuron\n"
     ]
    }
   ],
   "source": [
    "def removeCharacter():\n",
    "    string = input(\"Enter the String: \")\n",
    "    char = int(input(\"Enter the ith Character: \"))\n",
    "    out_string = ''\n",
    "    for i in range(len(string)):\n",
    "        if i != char:\n",
    "            out_string = out_string + string[i]\n",
    "    print(out_string)\n",
    "    \n",
    "removeCharacter()"
   ]
  },
  {
   "cell_type": "markdown",
   "id": "845ba790",
   "metadata": {},
   "source": [
    "### 3. Write a Python program to split and join a string?"
   ]
  },
  {
   "cell_type": "code",
   "execution_count": 6,
   "id": "fd82df54",
   "metadata": {},
   "outputs": [
    {
     "name": "stdout",
     "output_type": "stream",
     "text": [
      "Enter the string: Full stack data science\n",
      "Split String: ['Full', 'stack', 'data', 'science']\n",
      "Join String: Full stack data science\n"
     ]
    }
   ],
   "source": [
    "def splitJoinString():\n",
    "    in_string = input('Enter the string: ')\n",
    "    print(f\"Split String: {in_string.split(' ')}\")\n",
    "    print(f\"Join String: {' '.join(in_string.split(' '))}\")\n",
    "\n",
    "splitJoinString()"
   ]
  },
  {
   "cell_type": "markdown",
   "id": "ee642cdf",
   "metadata": {},
   "source": [
    "### 4. Write a Python to check if a given string is binary string or not?"
   ]
  },
  {
   "cell_type": "code",
   "execution_count": 7,
   "id": "6d04b29e",
   "metadata": {},
   "outputs": [
    {
     "name": "stdout",
     "output_type": "stream",
     "text": [
      "Enter the string: 123456\n",
      "123456 is not a binart string\n",
      "Enter the string: 1010011110\n",
      "1010011110 is a binary string\n"
     ]
    }
   ],
   "source": [
    "def checkBinary():\n",
    "    string = input('Enter the string: ')\n",
    "    chk = 0\n",
    "    for i in string:\n",
    "        if i in ['0','1']:\n",
    "            chk = 1\n",
    "            continue\n",
    "        else:\n",
    "            chk = 0\n",
    "            break\n",
    "    statement = 'is a binary string' if chk == 1 else 'is not a binart string' \n",
    "    print(f'{string} {statement}')\n",
    "\n",
    "checkBinary()\n",
    "checkBinary()"
   ]
  },
  {
   "cell_type": "markdown",
   "id": "d22e2622",
   "metadata": {},
   "source": [
    "### 5. Write a Python program to find uncommon words from two Strings?"
   ]
  },
  {
   "cell_type": "code",
   "execution_count": 8,
   "id": "be223e06",
   "metadata": {},
   "outputs": [
    {
     "name": "stdout",
     "output_type": "stream",
     "text": [
      "Enter the String 1: machine learning\n",
      "Enter the String 2: deep learning\n",
      "{'deep', 'machine'}\n"
     ]
    }
   ],
   "source": [
    "def unCommonWords():\n",
    "    string_1 = set(input(\"Enter the String 1: \").split(' '))\n",
    "    string_2 = set(input(\"Enter the String 2: \").split(' '))\n",
    "    out_string = (string_1.union(string_2)).difference(string_1.intersection(string_2))\n",
    "    print(out_string)\n",
    "\n",
    "unCommonWords()"
   ]
  },
  {
   "cell_type": "markdown",
   "id": "a077bda5",
   "metadata": {},
   "source": [
    "### 6. Write a Python to find all duplicate characters in string?"
   ]
  },
  {
   "cell_type": "code",
   "execution_count": 9,
   "id": "6116a494",
   "metadata": {},
   "outputs": [
    {
     "name": "stdout",
     "output_type": "stream",
     "text": [
      "Enter the string: full stack data science\n",
      "Duplicate characters are: ['e', 's', 'l', 'c', 't', ' ', 'a']\n"
     ]
    }
   ],
   "source": [
    "def duplicateChars():\n",
    "    string = input('Enter the string: ')\n",
    "    non_duplicate_list = []\n",
    "    duplicate_list = []\n",
    "    for i in string:\n",
    "        if i not in non_duplicate_list:\n",
    "            non_duplicate_list.append(i)\n",
    "        else:\n",
    "            duplicate_list.append(i)\n",
    "    print(f'Duplicate characters are: {list(set(duplicate_list))}')\n",
    "        \n",
    "duplicateChars()"
   ]
  },
  {
   "cell_type": "markdown",
   "id": "e14912b1",
   "metadata": {},
   "source": [
    "### 7. Write a Python Program to check if a string contains any special character?"
   ]
  },
  {
   "cell_type": "code",
   "execution_count": 10,
   "id": "b51b221d",
   "metadata": {},
   "outputs": [
    {
     "name": "stdout",
     "output_type": "stream",
     "text": [
      "Enter the string: jiviteshkumar.jk007@gmail.com\n",
      "There are 1 Speical Characters in jiviteshkumar.jk007@gmail.com which are ['@']\n"
     ]
    }
   ],
   "source": [
    "def checkSpecialChar():\n",
    "    spl_chars = '[@_!#$%^&*()<>?/\\|}{~:]'\n",
    "    num = input('Enter the string: ')\n",
    "    count = 0\n",
    "    char_list = []\n",
    "    for i in num:\n",
    "        if i in spl_chars:\n",
    "            char_list.append(i)\n",
    "            count = count+1\n",
    "    print(f'There are {count} Speical Characters in {num} which are {char_list}')\n",
    "            \n",
    "        \n",
    "checkSpecialChar()"
   ]
  },
  {
   "cell_type": "code",
   "execution_count": null,
   "id": "2d938463",
   "metadata": {},
   "outputs": [],
   "source": []
  }
 ],
 "metadata": {
  "kernelspec": {
   "display_name": "Python 3 (ipykernel)",
   "language": "python",
   "name": "python3"
  },
  "language_info": {
   "codemirror_mode": {
    "name": "ipython",
    "version": 3
   },
   "file_extension": ".py",
   "mimetype": "text/x-python",
   "name": "python",
   "nbconvert_exporter": "python",
   "pygments_lexer": "ipython3",
   "version": "3.9.7"
  }
 },
 "nbformat": 4,
 "nbformat_minor": 5
}
