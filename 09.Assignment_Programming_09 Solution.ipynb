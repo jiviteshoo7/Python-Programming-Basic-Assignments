{
 "cells": [
  {
   "cell_type": "markdown",
   "id": "abd957e6",
   "metadata": {},
   "source": [
    "### 1.  Write a Python Program to check if the given number is a Disarium Number?"
   ]
  },
  {
   "cell_type": "code",
   "execution_count": 1,
   "id": "746fd8cb",
   "metadata": {},
   "outputs": [
    {
     "name": "stdout",
     "output_type": "stream",
     "text": [
      "Enter the number :35\n",
      "35 Number is not Disarium\n"
     ]
    }
   ],
   "source": [
    "def isDisarium(num):\n",
    "    sum = 0\n",
    "    while(num>0):\n",
    "        dgcnt= len(str(num))\n",
    "        digit = num%10\n",
    "        sum= sum + digit**dgcnt   \n",
    "        dgcnt-=1\n",
    "        num = num//10\n",
    "    return sum\n",
    "\n",
    "num = int(input(\"Enter the number :\"))\n",
    "\n",
    "\n",
    "sum = isDisarium(num)\n",
    "if sum == num:\n",
    "    print(num,\"Number is Disarium\")\n",
    "else:\n",
    "    print(num,\"Number is not Disarium\") "
   ]
  },
  {
   "cell_type": "markdown",
   "id": "f11e7cd5",
   "metadata": {},
   "source": [
    "### 2. Write a Python Program to print all Disarium numbers between 1 to 100?"
   ]
  },
  {
   "cell_type": "code",
   "execution_count": 2,
   "id": "03d9e0f4",
   "metadata": {},
   "outputs": [
    {
     "name": "stdout",
     "output_type": "stream",
     "text": [
      "Disarium numbers in range 1 to 100\n",
      "[1, 2, 3, 4, 5, 6, 7, 8, 9, 89]\n"
     ]
    }
   ],
   "source": [
    "def isDisarium(num):\n",
    "    sum = 0\n",
    "    while(num>0):\n",
    "        dgcnt= len(str(num))\n",
    "        digit = num%10\n",
    "        sum= sum + digit**dgcnt   \n",
    "        dgcnt-=1\n",
    "        num = num//10\n",
    "    return sum\n",
    "\n",
    "print(\"Disarium numbers in range 1 to 100\")\n",
    "disariumNum = []\n",
    "\n",
    "for i in range(1,101):\n",
    "    sum = 0\n",
    "    sum = isDisarium(i)\n",
    "    if sum == i:\n",
    "        disariumNum.append(i)        \n",
    "print(disariumNum)"
   ]
  },
  {
   "cell_type": "markdown",
   "id": "a3f58a68",
   "metadata": {},
   "source": [
    "### 3. Write a Python Program to check if the given number is Happy Number?"
   ]
  },
  {
   "cell_type": "code",
   "execution_count": 5,
   "id": "28d42beb",
   "metadata": {},
   "outputs": [
    {
     "name": "stdout",
     "output_type": "stream",
     "text": [
      "Enter the number :44\n",
      "44 Is a Happy Number\n"
     ]
    }
   ],
   "source": [
    "def isHappy(num):\n",
    "    sum = 0\n",
    "    while(num>0):\n",
    "        digit = num%10\n",
    "        sum= sum + digit**2        \n",
    "        num = num//10\n",
    "    return sum\n",
    "\n",
    "num = int(input(\"Enter the number :\"))\n",
    "result = num\n",
    "\n",
    "\n",
    "while (result != 1 and result != 4):\n",
    "    result = isHappy(result)\n",
    "\n",
    "if result == 1:\n",
    "    print(num,\"Is a Happy Number\")\n",
    "else:\n",
    "    print(num,\" Is a Unhappy Number\")"
   ]
  },
  {
   "cell_type": "markdown",
   "id": "4c5027f6",
   "metadata": {},
   "source": [
    "### 4. Write a Python Program to print all Happy numbers between 1 and 100?"
   ]
  },
  {
   "cell_type": "code",
   "execution_count": 4,
   "id": "a578ab2a",
   "metadata": {},
   "outputs": [
    {
     "name": "stdout",
     "output_type": "stream",
     "text": [
      "Happy numbers in range 1 to 100\n",
      "[1, 7, 10, 13, 19, 23, 28, 31, 32, 44, 49, 68, 70, 79, 82, 86, 91, 94, 97, 100]\n"
     ]
    }
   ],
   "source": [
    "def isHappy(num):\n",
    "    sum = 0\n",
    "    while(num>0):\n",
    "        digit = num%10\n",
    "        sum= sum + digit**2        \n",
    "        num = num//10\n",
    "    return sum\n",
    "\n",
    "print(\"Happy numbers in range 1 to 100\")\n",
    "result=num=i=0\n",
    "happyNum = []\n",
    "for i in range(1,101):\n",
    "    result = i\n",
    "    while (result != 1 and result != 4):\n",
    "        result = isHappy(result)    \n",
    "    if result == 1:\n",
    "        happyNum.append(i)\n",
    "print(happyNum)"
   ]
  },
  {
   "cell_type": "markdown",
   "id": "ed74970d",
   "metadata": {},
   "source": [
    "### 5. Write a Python Program to determine whether the given number is a Harshad Number?"
   ]
  },
  {
   "cell_type": "code",
   "execution_count": 6,
   "id": "c2459d31",
   "metadata": {},
   "outputs": [
    {
     "name": "stdout",
     "output_type": "stream",
     "text": [
      "Enter the number :23223\n",
      "23223 Is not a Harshad number\n"
     ]
    }
   ],
   "source": [
    "def digitSum(num):\n",
    "    sum = 0\n",
    "    while(num>0):\n",
    "        digit = num%10\n",
    "        sum= sum + digit       \n",
    "        num = num//10\n",
    "    return sum\n",
    "\n",
    "num = int(input(\"Enter the number :\"))\n",
    "sum = digitSum(num)\n",
    "\n",
    "if num % sum == 0:\n",
    "    print(num,\"Is a Harshad number\")\n",
    "else:\n",
    "    print(num,\"Is not a Harshad number\")"
   ]
  },
  {
   "cell_type": "markdown",
   "id": "142b8027",
   "metadata": {},
   "source": [
    "### 6. Write a Python Program to print all pronic numbers between 1 and 100?"
   ]
  },
  {
   "cell_type": "code",
   "execution_count": 7,
   "id": "dc0b22c6",
   "metadata": {},
   "outputs": [
    {
     "name": "stdout",
     "output_type": "stream",
     "text": [
      "Pronic numbers in range 1 to 100\n",
      "[2, 6, 12, 20, 30, 42, 56, 72, 90]\n"
     ]
    }
   ],
   "source": [
    "def isPronicNum(num):\n",
    "    isPronic = False\n",
    "    for i in range(1,num+1):\n",
    "        if i*(i+1) == num:\n",
    "            isPronic = True\n",
    "            break\n",
    "    return isPronic\n",
    "\n",
    "print(\"Pronic numbers in range 1 to 100\")\n",
    "pronicNum = []\n",
    "for i in range(1,101):\n",
    "    if isPronicNum(i):\n",
    "        pronicNum.append(i)\n",
    "print(pronicNum)"
   ]
  }
 ],
 "metadata": {
  "kernelspec": {
   "display_name": "Python 3 (ipykernel)",
   "language": "python",
   "name": "python3"
  },
  "language_info": {
   "codemirror_mode": {
    "name": "ipython",
    "version": 3
   },
   "file_extension": ".py",
   "mimetype": "text/x-python",
   "name": "python",
   "nbconvert_exporter": "python",
   "pygments_lexer": "ipython3",
   "version": "3.9.7"
  }
 },
 "nbformat": 4,
 "nbformat_minor": 5
}
