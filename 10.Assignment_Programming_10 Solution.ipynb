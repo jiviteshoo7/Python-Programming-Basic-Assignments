{
 "cells": [
  {
   "cell_type": "markdown",
   "id": "d6f96d38",
   "metadata": {},
   "source": [
    "### 1. Write a Python Program to find sum of elements in a list?"
   ]
  },
  {
   "cell_type": "code",
   "execution_count": 1,
   "id": "1fbea5b2",
   "metadata": {},
   "outputs": [
    {
     "name": "stdout",
     "output_type": "stream",
     "text": [
      "Enter the No of Entries in a List: 4\n",
      "Enter a element: 1\n",
      "Enter a element: 2\n",
      "Enter a element: 3\n",
      "Enter a element: 4\n",
      "Sum of Elements: 10\n"
     ]
    }
   ],
   "source": [
    "def sumofList():\n",
    "    entries = int(input('Enter the No of Entries in a List: '))\n",
    "    lst = []\n",
    "    for itr in range(entries):\n",
    "        lst.append(int(input('Enter a element: ')))\n",
    "    print(f'Sum of Elements: {sum(lst)}')\n",
    "\n",
    "sumofList()"
   ]
  },
  {
   "cell_type": "markdown",
   "id": "35ff9c7c",
   "metadata": {},
   "source": [
    "### 2. Write a Python Program to multiply all numbers in the list?"
   ]
  },
  {
   "cell_type": "code",
   "execution_count": 2,
   "id": "d77e77e6",
   "metadata": {},
   "outputs": [
    {
     "name": "stdout",
     "output_type": "stream",
     "text": [
      "Enter the No of Entries in a List: 4\n",
      "Enter a element: 1\n",
      "Enter a element: 2\n",
      "Enter a element: 3\n",
      "Enter a element: 4\n",
      "24\n"
     ]
    }
   ],
   "source": [
    "def mulofList():\n",
    "    entries = int(input('Enter the No of Entries in a List: '))\n",
    "    lst = []\n",
    "    mul = 1\n",
    "    for i in range(entries):\n",
    "        lst.append(int(input('Enter a element: ')))\n",
    "    for entries in lst:\n",
    "        mul = mul * entries\n",
    "    print(mul)\n",
    "\n",
    "mulofList()"
   ]
  },
  {
   "cell_type": "markdown",
   "id": "0561967b",
   "metadata": {},
   "source": [
    "### 3. Write a Python Program to find smallest number in the list?"
   ]
  },
  {
   "cell_type": "code",
   "execution_count": 3,
   "id": "3e9863eb",
   "metadata": {},
   "outputs": [
    {
     "name": "stdout",
     "output_type": "stream",
     "text": [
      "Enter the No of elements in a list: 5\n",
      "Enter a Element: 1\n",
      "Enter a Element: 23\n",
      "Enter a Element: 1441\n",
      "Enter a Element: 11321\n",
      "Enter a Element: 11\n",
      "The Smallest Element in [1, 23, 1441, 11321, 11] is 1\n"
     ]
    }
   ],
   "source": [
    "def smallEleInList():\n",
    "    entries = int(input('Enter the No of elements in a list: '))\n",
    "    lst = []\n",
    "    for i in range(entries):\n",
    "        lst.append(int(input('Enter a Element: ')))\n",
    "    print(f'The Smallest Element in {lst} is {sorted(lst)[0]}')\n",
    "smallEleInList()"
   ]
  },
  {
   "cell_type": "markdown",
   "id": "0684d2e6",
   "metadata": {},
   "source": [
    "### 4. Write a Python Program to find largest number in the list?"
   ]
  },
  {
   "cell_type": "code",
   "execution_count": 4,
   "id": "c1984a1c",
   "metadata": {},
   "outputs": [
    {
     "name": "stdout",
     "output_type": "stream",
     "text": [
      "Enter the No of elements in a list: 5\n",
      "Enter a Element: 12\n",
      "Enter a Element: 213\n",
      "Enter a Element: 21\n",
      "Enter a Element: 142\n",
      "Enter a Element: 13\n",
      "The Largest Element in [12, 213, 21, 142, 13] is 213\n"
     ]
    }
   ],
   "source": [
    "def largestEleInList():\n",
    "    entries = int(input('Enter the No of elements in a list: '))\n",
    "    lst = []\n",
    "    for i in range(entries):\n",
    "        lst.append(int(input('Enter a Element: ')))\n",
    "    print(f'The Largest Element in {lst} is {sorted(lst, reverse=True)[0]}')\n",
    "\n",
    "largestEleInList()"
   ]
  },
  {
   "cell_type": "markdown",
   "id": "ef882ac4",
   "metadata": {},
   "source": [
    "### 5. Write a Python Program to find second largest number in the list?"
   ]
  },
  {
   "cell_type": "code",
   "execution_count": 5,
   "id": "ca2c5e29",
   "metadata": {},
   "outputs": [
    {
     "name": "stdout",
     "output_type": "stream",
     "text": [
      "Enter the No of elements in a list: 5\n",
      "Enter a Element: 12\n",
      "Enter a Element: 123\n",
      "Enter a Element: 133\n",
      "Enter a Element: 11\n",
      "Enter a Element: 14\n",
      "The Second Largest Element in [12, 123, 133, 11, 14] is 123\n"
     ]
    }
   ],
   "source": [
    "def secondLargestEleInList():\n",
    "    entries = int(input('Enter the No of elements in a list: '))\n",
    "    lst = []\n",
    "    for i in range(entries):\n",
    "        lst.append(int(input('Enter a Element: ')))\n",
    "    print(f'The Second Largest Element in {lst} is {sorted(lst, reverse=True)[1]}')\n",
    "\n",
    "secondLargestEleInList()"
   ]
  },
  {
   "cell_type": "markdown",
   "id": "ee185d52",
   "metadata": {},
   "source": [
    "### 6. Write a Python Program to find N largest elements in the list?"
   ]
  },
  {
   "cell_type": "code",
   "execution_count": 8,
   "id": "e2c518fa",
   "metadata": {},
   "outputs": [
    {
     "name": "stdout",
     "output_type": "stream",
     "text": [
      "Enter the No of elements in a list: 10\n",
      "Enter a Element: 3\n",
      "Enter a Element: 3\n",
      "Enter a Element: 34\n",
      "Enter a Element: 7\n",
      "Enter a Element: 8\n",
      "Enter a Element: 9\n",
      "Enter a Element: 34\n",
      "Enter a Element: 5\n",
      "Enter a Element: 8\n",
      "Enter a Element: 34\n",
      "The 5 Largest Element in [3, 3, 34, 7, 8, 9, 34, 5, 8, 34] is [34, 34, 34, 9, 8]\n"
     ]
    }
   ],
   "source": [
    "def nLargestEleInList(k):\n",
    "    entries = int(input('Enter the No of elements in a list: '))\n",
    "    lst = []\n",
    "    for i in range(entries):\n",
    "        lst.append(int(input('Enter a Element: ')))\n",
    "    print(f'The {k} Largest Element in {lst} is {sorted(lst, reverse=True)[0:k]}')\n",
    "\n",
    "nLargestEleInList(5)"
   ]
  },
  {
   "cell_type": "markdown",
   "id": "7f5a2b91",
   "metadata": {},
   "source": [
    "### 7. Write a Python Program to find even numbers in the list?"
   ]
  },
  {
   "cell_type": "code",
   "execution_count": 9,
   "id": "e9b0d19a",
   "metadata": {},
   "outputs": [
    {
     "name": "stdout",
     "output_type": "stream",
     "text": [
      "Enter the No of elements in a list: 5\n",
      "Enter a Element: 2\n",
      "Enter a Element: 3\n",
      "Enter a Element: 4\n",
      "Enter a Element: 5\n",
      "Enter a Element: 6\n",
      "The Even Elements in [2, 3, 4, 5, 6] are [2, 4, 6]\n"
     ]
    }
   ],
   "source": [
    "def evenNoInList():\n",
    "    entries  = int(input('Enter the No of elements in a list: '))\n",
    "    lst = []\n",
    "    even_list = []\n",
    "    for i in range(entries ):\n",
    "        lst.append(int(input('Enter a Element: ')))\n",
    "    for i in lst:\n",
    "        if i%2 == 0:\n",
    "            even_list.append(i)\n",
    "    print(f'The Even Elements in {lst} are {even_list}')\n",
    "\n",
    "evenNoInList()"
   ]
  },
  {
   "cell_type": "markdown",
   "id": "a5d3f862",
   "metadata": {},
   "source": [
    "### 8. Write a Python Program to find odd numbers in the list?"
   ]
  },
  {
   "cell_type": "code",
   "execution_count": 12,
   "id": "101d0718",
   "metadata": {},
   "outputs": [
    {
     "name": "stdout",
     "output_type": "stream",
     "text": [
      "Enter the No of elements in a list: 5\n",
      "Enter a Element: 1\n",
      "Enter a Element: 2\n",
      "Enter a Element: 3\n",
      "Enter a Element: 4\n",
      "Enter a Element: 5\n",
      "The Even Elements in [1, 2, 3, 4, 5] are [1, 3, 5]\n"
     ]
    }
   ],
   "source": [
    "def oddNoInList():\n",
    "    entries  = int(input('Enter the No of elements in a list: '))\n",
    "    lst = []\n",
    "    odd_list = []\n",
    "    for i in range(entries):\n",
    "        lst.append(int(input('Enter a Element: ')))\n",
    "    for i in lst:\n",
    "        if i%2 != 0:\n",
    "            odd_list.append(i)\n",
    "    print(f'The Even Elements in {lst} are {odd_list}')\n",
    "\n",
    "oddNoInList()"
   ]
  },
  {
   "cell_type": "markdown",
   "id": "f97fa7ea",
   "metadata": {},
   "source": [
    "### 9. Write a Python Program to remove empty list from list?"
   ]
  },
  {
   "cell_type": "code",
   "execution_count": 17,
   "id": "193a2ef1",
   "metadata": {},
   "outputs": [
    {
     "name": "stdout",
     "output_type": "stream",
     "text": [
      "Enter all elements of the list: [2,[],4,5,[],6,8,[],3]\n",
      "There is an Empty list in [2, [], 4, 5, [], 6, 8, [], 3] at Position 1\n",
      "The List after removing [] is [2, 4, 5, [], 6, 8, [], 3]\n"
     ]
    }
   ],
   "source": [
    "def checkEmptyList():\n",
    "    lst = eval(input('Enter all elements of the list: '))\n",
    "    if [] in lst:\n",
    "        print(f'There is an Empty list in {lst} at Position {lst.index([])}')\n",
    "        lst.remove([])\n",
    "        print(f'The List after removing [] is {lst}')\n",
    "    else:\n",
    "        print(f'There is no [] List in the list {lst}')\n",
    "        \n",
    "checkEmptyList()"
   ]
  },
  {
   "cell_type": "markdown",
   "id": "1a5b1f91",
   "metadata": {},
   "source": [
    "### 10. Write a Python Program to Cloning or Copying a list?"
   ]
  },
  {
   "cell_type": "code",
   "execution_count": 19,
   "id": "55882ca5",
   "metadata": {},
   "outputs": [
    {
     "name": "stdout",
     "output_type": "stream",
     "text": [
      "Enter a list[1,2,3,4,6,7]\n",
      "[1, 2, 3, 4, 6, 7] 2622898138624\n",
      "[1, 2, 3, 4, 6, 7] 2622897833088\n"
     ]
    }
   ],
   "source": [
    "import copy\n",
    "\n",
    "def cloneList():\n",
    "    lst = eval(input('Enter a list'))\n",
    "    print(lst, id(lst))\n",
    "    cloned_list = lst.copy()\n",
    "    print(cloned_list, id(cloned_list))\n",
    "\n",
    "cloneList()"
   ]
  },
  {
   "cell_type": "markdown",
   "id": "37e5e6bd",
   "metadata": {},
   "source": [
    "### 11. Write a Python Program to count occurences of an element in a list?"
   ]
  },
  {
   "cell_type": "code",
   "execution_count": 20,
   "id": "8a5e7b52",
   "metadata": {},
   "outputs": [
    {
     "name": "stdout",
     "output_type": "stream",
     "text": [
      "Enter the elements of the list: [1,1,2,3,4,2,1,1,1,3,4,5]\n",
      "Enter the element to find: 1\n",
      "There are 5 occurences of 1 in [1, 1, 2, 3, 4, 2, 1, 1, 1, 3, 4, 5]\n"
     ]
    }
   ],
   "source": [
    "def checkOccurence():\n",
    "    lst = eval(input('Enter the elements of the list: '))\n",
    "    num = eval(input('Enter the element to find: '))\n",
    "    count = 0\n",
    "    if num in lst:\n",
    "        for i in lst:\n",
    "            if i == num:\n",
    "                count = count+1\n",
    "    print(f'There are {count} occurences of {num} in {lst}')\n",
    "    \n",
    "checkOccurence()"
   ]
  }
 ],
 "metadata": {
  "kernelspec": {
   "display_name": "Python 3 (ipykernel)",
   "language": "python",
   "name": "python3"
  },
  "language_info": {
   "codemirror_mode": {
    "name": "ipython",
    "version": 3
   },
   "file_extension": ".py",
   "mimetype": "text/x-python",
   "name": "python",
   "nbconvert_exporter": "python",
   "pygments_lexer": "ipython3",
   "version": "3.9.7"
  }
 },
 "nbformat": 4,
 "nbformat_minor": 5
}
